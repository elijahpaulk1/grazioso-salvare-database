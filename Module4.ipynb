{
 "cells": [
  {
   "cell_type": "code",
   "execution_count": 17,
   "id": "7bed3cde-7e36-4f99-ae19-7331e5df3758",
   "metadata": {},
   "outputs": [],
   "source": [
    "import os"
   ]
  },
  {
   "cell_type": "code",
   "execution_count": 18,
   "id": "8053f922-e26d-4d96-9c5d-cae81d51d9f8",
   "metadata": {},
   "outputs": [],
   "source": [
    "from MongoCRUD import MongoCRUD"
   ]
  },
  {
   "cell_type": "code",
   "execution_count": 19,
   "id": "5b648494-1590-40c8-8cfb-076451adcaf0",
   "metadata": {},
   "outputs": [],
   "source": [
    "mongo_crud = MongoCRUD('aacuser', 'SNHU1234', 'nv-desktop-services.apporto.com', 31580, 'aac', 'animals')"
   ]
  },
  {
   "cell_type": "code",
   "execution_count": 20,
   "id": "7dcbbb9d-9162-4e36-b70e-e4506606de8b",
   "metadata": {},
   "outputs": [
    {
     "name": "stdout",
     "output_type": "stream",
     "text": [
      "Error during insertion: nv-desktop-services.apporto.com:31580: [Errno 8] nodename nor servname provided, or not known (configured timeouts: socketTimeoutMS: 20000.0ms, connectTimeoutMS: 20000.0ms), Timeout: 30s, Topology Description: <TopologyDescription id: 65c49d97f80453abb52b7d81, topology_type: Unknown, servers: [<ServerDescription ('nv-desktop-services.apporto.com', 31580) server_type: Unknown, rtt: None, error=AutoReconnect('nv-desktop-services.apporto.com:31580: [Errno 8] nodename nor servname provided, or not known (configured timeouts: socketTimeoutMS: 20000.0ms, connectTimeoutMS: 20000.0ms)')>]>\n",
      "Insertion result: False\n"
     ]
    }
   ],
   "source": [
    "# Insertion\n",
    "insert_data = {\"name\": \"Fluffy\", \"type\": \"Dog\", \"age\": 5}\n",
    "insert_result = mongo_crud.create(insert_data)\n",
    "print(\"Insertion result:\", insert_result)"
   ]
  },
  {
   "cell_type": "code",
   "execution_count": 21,
   "id": "f42091d6-9e73-4b6e-9069-2149d60014e6",
   "metadata": {},
   "outputs": [
    {
     "name": "stdout",
     "output_type": "stream",
     "text": [
      "Error during query: nv-desktop-services.apporto.com:31580: [Errno 8] nodename nor servname provided, or not known (configured timeouts: socketTimeoutMS: 20000.0ms, connectTimeoutMS: 20000.0ms), Timeout: 30s, Topology Description: <TopologyDescription id: 65c49d97f80453abb52b7d81, topology_type: Unknown, servers: [<ServerDescription ('nv-desktop-services.apporto.com', 31580) server_type: Unknown, rtt: None, error=AutoReconnect('nv-desktop-services.apporto.com:31580: [Errno 8] nodename nor servname provided, or not known (configured timeouts: socketTimeoutMS: 20000.0ms, connectTimeoutMS: 20000.0ms)')>]>\n",
      "Query result: []\n"
     ]
    }
   ],
   "source": [
    "# Query\n",
    "query_result = mongo_crud.read({\"type\": \"Dog\"})\n",
    "print(\"Query result:\", query_result)"
   ]
  },
  {
   "cell_type": "code",
   "execution_count": null,
   "id": "369d0d7c-fce5-4944-b676-b962280a846c",
   "metadata": {},
   "outputs": [],
   "source": []
  }
 ],
 "metadata": {
  "kernelspec": {
   "display_name": "Python 3 (ipykernel)",
   "language": "python",
   "name": "python3"
  },
  "language_info": {
   "codemirror_mode": {
    "name": "ipython",
    "version": 3
   },
   "file_extension": ".py",
   "mimetype": "text/x-python",
   "name": "python",
   "nbconvert_exporter": "python",
   "pygments_lexer": "ipython3",
   "version": "3.11.5"
  }
 },
 "nbformat": 4,
 "nbformat_minor": 5
}
